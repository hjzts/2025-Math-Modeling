{
  "cells": [
    {
      "cell_type": "markdown",
      "metadata": {
        "id": "_5_j8XBVAJmx"
      },
      "source": [
        "## 分析国家GDP 与 人口数 与最近五年获得的奥运奖牌数总和之间的函数关系"
      ]
    },
    {
      "cell_type": "markdown",
      "source": [
        "##　加载数据"
      ],
      "metadata": {
        "id": "eBSjIF_hAL80"
      }
    },
    {
      "cell_type": "code",
      "execution_count": 3,
      "metadata": {
        "id": "H08VHVTTAJmz",
        "outputId": "945d459d-4dc4-40af-8fbd-f9c84185657d",
        "colab": {
          "base_uri": "https://localhost:8080/"
        }
      },
      "outputs": [
        {
          "output_type": "stream",
          "name": "stdout",
          "text": [
            "Mounted at /content/drive\n"
          ]
        }
      ],
      "source": [
        "from google.colab import drive\n",
        "drive.mount('/content/drive')\n",
        "import os\n",
        "os.chdir('/content/drive/MyDrive/Colab Notebooks')"
      ]
    },
    {
      "cell_type": "code",
      "source": [
        "%cd dataset"
      ],
      "metadata": {
        "id": "AW7p8ZfjA1Tk",
        "outputId": "0eb71cc4-ed34-43a1-958f-1c1e5aa8d7f1",
        "colab": {
          "base_uri": "https://localhost:8080/"
        }
      },
      "execution_count": 9,
      "outputs": [
        {
          "output_type": "stream",
          "name": "stdout",
          "text": [
            "/content/drive/MyDrive/Colab Notebooks/dataset\n"
          ]
        }
      ]
    },
    {
      "cell_type": "code",
      "source": [
        "!ls"
      ],
      "metadata": {
        "id": "KtyhDBZdA3Xz",
        "outputId": "6986238d-b163-44ba-c807-e29a3a782278",
        "colab": {
          "base_uri": "https://localhost:8080/"
        }
      },
      "execution_count": 10,
      "outputs": [
        {
          "output_type": "stream",
          "name": "stdout",
          "text": [
            "data_dictionary.csv\tsummerOly_hosts.csv\t    summerOly_programs.csv\n",
            "summerOly_athletes.csv\tsummerOly_medal_counts.csv\n"
          ]
        }
      ]
    },
    {
      "cell_type": "code",
      "source": [
        "import pandas as pd\n",
        "import numpy as np\n",
        "import matplotlib.pyplot as plt\n",
        "import seaborn as sns"
      ],
      "metadata": {
        "id": "ligEMNenBHTz"
      },
      "execution_count": 12,
      "outputs": []
    },
    {
      "cell_type": "code",
      "source": [
        "athletes = pd.read_csv('summerOly_athletes.csv')\n",
        "hosts = pd.read_csv('summerOly_hosts.csv')\n",
        "medal_counts = pd.read_csv('summerOly_medal_counts.csv')\n",
        "programs = pd.read_csv('summerOly_programs.csv',encoding='latin-1')\n",
        "countrys = pd.read_csv('country.csv')"
      ],
      "metadata": {
        "id": "mF5s8efsA7Tj"
      },
      "execution_count": 14,
      "outputs": []
    },
    {
      "cell_type": "code",
      "source": [
        "countrys"
      ],
      "metadata": {
        "id": "KWH7skMfBaNb",
        "outputId": "525ae816-cf57-4652-f041-fc3821520896",
        "colab": {
          "base_uri": "https://localhost:8080/",
          "height": 423
        }
      },
      "execution_count": 15,
      "outputs": [
        {
          "output_type": "execute_result",
          "data": {
            "text/plain": [
              "             Country Code  Population  GDP per Capita\n",
              "0        Afghanistan  AFG  32526562.0      594.323081\n",
              "1            Albania  ALB   2889167.0     3945.217582\n",
              "2            Algeria  ALG  39666519.0     4206.031232\n",
              "3    American Samoa*  ASA     55538.0             NaN\n",
              "4            Andorra  AND     70473.0             NaN\n",
              "..               ...  ...         ...             ...\n",
              "196          Vietnam  VIE  91703800.0     2111.138024\n",
              "197  Virgin Islands*  ISV    103574.0             NaN\n",
              "198            Yemen  YEM  26832215.0     1406.291651\n",
              "199           Zambia  ZAM  16211767.0     1304.879014\n",
              "200         Zimbabwe  ZIM  15602751.0      924.143819\n",
              "\n",
              "[201 rows x 4 columns]"
            ],
            "text/html": [
              "\n",
              "  <div id=\"df-7de9bbb0-6de0-43c6-b233-fc1ed38dc7e1\" class=\"colab-df-container\">\n",
              "    <div>\n",
              "<style scoped>\n",
              "    .dataframe tbody tr th:only-of-type {\n",
              "        vertical-align: middle;\n",
              "    }\n",
              "\n",
              "    .dataframe tbody tr th {\n",
              "        vertical-align: top;\n",
              "    }\n",
              "\n",
              "    .dataframe thead th {\n",
              "        text-align: right;\n",
              "    }\n",
              "</style>\n",
              "<table border=\"1\" class=\"dataframe\">\n",
              "  <thead>\n",
              "    <tr style=\"text-align: right;\">\n",
              "      <th></th>\n",
              "      <th>Country</th>\n",
              "      <th>Code</th>\n",
              "      <th>Population</th>\n",
              "      <th>GDP per Capita</th>\n",
              "    </tr>\n",
              "  </thead>\n",
              "  <tbody>\n",
              "    <tr>\n",
              "      <th>0</th>\n",
              "      <td>Afghanistan</td>\n",
              "      <td>AFG</td>\n",
              "      <td>32526562.0</td>\n",
              "      <td>594.323081</td>\n",
              "    </tr>\n",
              "    <tr>\n",
              "      <th>1</th>\n",
              "      <td>Albania</td>\n",
              "      <td>ALB</td>\n",
              "      <td>2889167.0</td>\n",
              "      <td>3945.217582</td>\n",
              "    </tr>\n",
              "    <tr>\n",
              "      <th>2</th>\n",
              "      <td>Algeria</td>\n",
              "      <td>ALG</td>\n",
              "      <td>39666519.0</td>\n",
              "      <td>4206.031232</td>\n",
              "    </tr>\n",
              "    <tr>\n",
              "      <th>3</th>\n",
              "      <td>American Samoa*</td>\n",
              "      <td>ASA</td>\n",
              "      <td>55538.0</td>\n",
              "      <td>NaN</td>\n",
              "    </tr>\n",
              "    <tr>\n",
              "      <th>4</th>\n",
              "      <td>Andorra</td>\n",
              "      <td>AND</td>\n",
              "      <td>70473.0</td>\n",
              "      <td>NaN</td>\n",
              "    </tr>\n",
              "    <tr>\n",
              "      <th>...</th>\n",
              "      <td>...</td>\n",
              "      <td>...</td>\n",
              "      <td>...</td>\n",
              "      <td>...</td>\n",
              "    </tr>\n",
              "    <tr>\n",
              "      <th>196</th>\n",
              "      <td>Vietnam</td>\n",
              "      <td>VIE</td>\n",
              "      <td>91703800.0</td>\n",
              "      <td>2111.138024</td>\n",
              "    </tr>\n",
              "    <tr>\n",
              "      <th>197</th>\n",
              "      <td>Virgin Islands*</td>\n",
              "      <td>ISV</td>\n",
              "      <td>103574.0</td>\n",
              "      <td>NaN</td>\n",
              "    </tr>\n",
              "    <tr>\n",
              "      <th>198</th>\n",
              "      <td>Yemen</td>\n",
              "      <td>YEM</td>\n",
              "      <td>26832215.0</td>\n",
              "      <td>1406.291651</td>\n",
              "    </tr>\n",
              "    <tr>\n",
              "      <th>199</th>\n",
              "      <td>Zambia</td>\n",
              "      <td>ZAM</td>\n",
              "      <td>16211767.0</td>\n",
              "      <td>1304.879014</td>\n",
              "    </tr>\n",
              "    <tr>\n",
              "      <th>200</th>\n",
              "      <td>Zimbabwe</td>\n",
              "      <td>ZIM</td>\n",
              "      <td>15602751.0</td>\n",
              "      <td>924.143819</td>\n",
              "    </tr>\n",
              "  </tbody>\n",
              "</table>\n",
              "<p>201 rows × 4 columns</p>\n",
              "</div>\n",
              "    <div class=\"colab-df-buttons\">\n",
              "\n",
              "  <div class=\"colab-df-container\">\n",
              "    <button class=\"colab-df-convert\" onclick=\"convertToInteractive('df-7de9bbb0-6de0-43c6-b233-fc1ed38dc7e1')\"\n",
              "            title=\"Convert this dataframe to an interactive table.\"\n",
              "            style=\"display:none;\">\n",
              "\n",
              "  <svg xmlns=\"http://www.w3.org/2000/svg\" height=\"24px\" viewBox=\"0 -960 960 960\">\n",
              "    <path d=\"M120-120v-720h720v720H120Zm60-500h600v-160H180v160Zm220 220h160v-160H400v160Zm0 220h160v-160H400v160ZM180-400h160v-160H180v160Zm440 0h160v-160H620v160ZM180-180h160v-160H180v160Zm440 0h160v-160H620v160Z\"/>\n",
              "  </svg>\n",
              "    </button>\n",
              "\n",
              "  <style>\n",
              "    .colab-df-container {\n",
              "      display:flex;\n",
              "      gap: 12px;\n",
              "    }\n",
              "\n",
              "    .colab-df-convert {\n",
              "      background-color: #E8F0FE;\n",
              "      border: none;\n",
              "      border-radius: 50%;\n",
              "      cursor: pointer;\n",
              "      display: none;\n",
              "      fill: #1967D2;\n",
              "      height: 32px;\n",
              "      padding: 0 0 0 0;\n",
              "      width: 32px;\n",
              "    }\n",
              "\n",
              "    .colab-df-convert:hover {\n",
              "      background-color: #E2EBFA;\n",
              "      box-shadow: 0px 1px 2px rgba(60, 64, 67, 0.3), 0px 1px 3px 1px rgba(60, 64, 67, 0.15);\n",
              "      fill: #174EA6;\n",
              "    }\n",
              "\n",
              "    .colab-df-buttons div {\n",
              "      margin-bottom: 4px;\n",
              "    }\n",
              "\n",
              "    [theme=dark] .colab-df-convert {\n",
              "      background-color: #3B4455;\n",
              "      fill: #D2E3FC;\n",
              "    }\n",
              "\n",
              "    [theme=dark] .colab-df-convert:hover {\n",
              "      background-color: #434B5C;\n",
              "      box-shadow: 0px 1px 3px 1px rgba(0, 0, 0, 0.15);\n",
              "      filter: drop-shadow(0px 1px 2px rgba(0, 0, 0, 0.3));\n",
              "      fill: #FFFFFF;\n",
              "    }\n",
              "  </style>\n",
              "\n",
              "    <script>\n",
              "      const buttonEl =\n",
              "        document.querySelector('#df-7de9bbb0-6de0-43c6-b233-fc1ed38dc7e1 button.colab-df-convert');\n",
              "      buttonEl.style.display =\n",
              "        google.colab.kernel.accessAllowed ? 'block' : 'none';\n",
              "\n",
              "      async function convertToInteractive(key) {\n",
              "        const element = document.querySelector('#df-7de9bbb0-6de0-43c6-b233-fc1ed38dc7e1');\n",
              "        const dataTable =\n",
              "          await google.colab.kernel.invokeFunction('convertToInteractive',\n",
              "                                                    [key], {});\n",
              "        if (!dataTable) return;\n",
              "\n",
              "        const docLinkHtml = 'Like what you see? Visit the ' +\n",
              "          '<a target=\"_blank\" href=https://colab.research.google.com/notebooks/data_table.ipynb>data table notebook</a>'\n",
              "          + ' to learn more about interactive tables.';\n",
              "        element.innerHTML = '';\n",
              "        dataTable['output_type'] = 'display_data';\n",
              "        await google.colab.output.renderOutput(dataTable, element);\n",
              "        const docLink = document.createElement('div');\n",
              "        docLink.innerHTML = docLinkHtml;\n",
              "        element.appendChild(docLink);\n",
              "      }\n",
              "    </script>\n",
              "  </div>\n",
              "\n",
              "\n",
              "<div id=\"df-0a469f4b-2173-478e-93ee-00f3b2133985\">\n",
              "  <button class=\"colab-df-quickchart\" onclick=\"quickchart('df-0a469f4b-2173-478e-93ee-00f3b2133985')\"\n",
              "            title=\"Suggest charts\"\n",
              "            style=\"display:none;\">\n",
              "\n",
              "<svg xmlns=\"http://www.w3.org/2000/svg\" height=\"24px\"viewBox=\"0 0 24 24\"\n",
              "     width=\"24px\">\n",
              "    <g>\n",
              "        <path d=\"M19 3H5c-1.1 0-2 .9-2 2v14c0 1.1.9 2 2 2h14c1.1 0 2-.9 2-2V5c0-1.1-.9-2-2-2zM9 17H7v-7h2v7zm4 0h-2V7h2v10zm4 0h-2v-4h2v4z\"/>\n",
              "    </g>\n",
              "</svg>\n",
              "  </button>\n",
              "\n",
              "<style>\n",
              "  .colab-df-quickchart {\n",
              "      --bg-color: #E8F0FE;\n",
              "      --fill-color: #1967D2;\n",
              "      --hover-bg-color: #E2EBFA;\n",
              "      --hover-fill-color: #174EA6;\n",
              "      --disabled-fill-color: #AAA;\n",
              "      --disabled-bg-color: #DDD;\n",
              "  }\n",
              "\n",
              "  [theme=dark] .colab-df-quickchart {\n",
              "      --bg-color: #3B4455;\n",
              "      --fill-color: #D2E3FC;\n",
              "      --hover-bg-color: #434B5C;\n",
              "      --hover-fill-color: #FFFFFF;\n",
              "      --disabled-bg-color: #3B4455;\n",
              "      --disabled-fill-color: #666;\n",
              "  }\n",
              "\n",
              "  .colab-df-quickchart {\n",
              "    background-color: var(--bg-color);\n",
              "    border: none;\n",
              "    border-radius: 50%;\n",
              "    cursor: pointer;\n",
              "    display: none;\n",
              "    fill: var(--fill-color);\n",
              "    height: 32px;\n",
              "    padding: 0;\n",
              "    width: 32px;\n",
              "  }\n",
              "\n",
              "  .colab-df-quickchart:hover {\n",
              "    background-color: var(--hover-bg-color);\n",
              "    box-shadow: 0 1px 2px rgba(60, 64, 67, 0.3), 0 1px 3px 1px rgba(60, 64, 67, 0.15);\n",
              "    fill: var(--button-hover-fill-color);\n",
              "  }\n",
              "\n",
              "  .colab-df-quickchart-complete:disabled,\n",
              "  .colab-df-quickchart-complete:disabled:hover {\n",
              "    background-color: var(--disabled-bg-color);\n",
              "    fill: var(--disabled-fill-color);\n",
              "    box-shadow: none;\n",
              "  }\n",
              "\n",
              "  .colab-df-spinner {\n",
              "    border: 2px solid var(--fill-color);\n",
              "    border-color: transparent;\n",
              "    border-bottom-color: var(--fill-color);\n",
              "    animation:\n",
              "      spin 1s steps(1) infinite;\n",
              "  }\n",
              "\n",
              "  @keyframes spin {\n",
              "    0% {\n",
              "      border-color: transparent;\n",
              "      border-bottom-color: var(--fill-color);\n",
              "      border-left-color: var(--fill-color);\n",
              "    }\n",
              "    20% {\n",
              "      border-color: transparent;\n",
              "      border-left-color: var(--fill-color);\n",
              "      border-top-color: var(--fill-color);\n",
              "    }\n",
              "    30% {\n",
              "      border-color: transparent;\n",
              "      border-left-color: var(--fill-color);\n",
              "      border-top-color: var(--fill-color);\n",
              "      border-right-color: var(--fill-color);\n",
              "    }\n",
              "    40% {\n",
              "      border-color: transparent;\n",
              "      border-right-color: var(--fill-color);\n",
              "      border-top-color: var(--fill-color);\n",
              "    }\n",
              "    60% {\n",
              "      border-color: transparent;\n",
              "      border-right-color: var(--fill-color);\n",
              "    }\n",
              "    80% {\n",
              "      border-color: transparent;\n",
              "      border-right-color: var(--fill-color);\n",
              "      border-bottom-color: var(--fill-color);\n",
              "    }\n",
              "    90% {\n",
              "      border-color: transparent;\n",
              "      border-bottom-color: var(--fill-color);\n",
              "    }\n",
              "  }\n",
              "</style>\n",
              "\n",
              "  <script>\n",
              "    async function quickchart(key) {\n",
              "      const quickchartButtonEl =\n",
              "        document.querySelector('#' + key + ' button');\n",
              "      quickchartButtonEl.disabled = true;  // To prevent multiple clicks.\n",
              "      quickchartButtonEl.classList.add('colab-df-spinner');\n",
              "      try {\n",
              "        const charts = await google.colab.kernel.invokeFunction(\n",
              "            'suggestCharts', [key], {});\n",
              "      } catch (error) {\n",
              "        console.error('Error during call to suggestCharts:', error);\n",
              "      }\n",
              "      quickchartButtonEl.classList.remove('colab-df-spinner');\n",
              "      quickchartButtonEl.classList.add('colab-df-quickchart-complete');\n",
              "    }\n",
              "    (() => {\n",
              "      let quickchartButtonEl =\n",
              "        document.querySelector('#df-0a469f4b-2173-478e-93ee-00f3b2133985 button');\n",
              "      quickchartButtonEl.style.display =\n",
              "        google.colab.kernel.accessAllowed ? 'block' : 'none';\n",
              "    })();\n",
              "  </script>\n",
              "</div>\n",
              "\n",
              "  <div id=\"id_051e72b6-0e43-442c-ad48-bd56e897b30d\">\n",
              "    <style>\n",
              "      .colab-df-generate {\n",
              "        background-color: #E8F0FE;\n",
              "        border: none;\n",
              "        border-radius: 50%;\n",
              "        cursor: pointer;\n",
              "        display: none;\n",
              "        fill: #1967D2;\n",
              "        height: 32px;\n",
              "        padding: 0 0 0 0;\n",
              "        width: 32px;\n",
              "      }\n",
              "\n",
              "      .colab-df-generate:hover {\n",
              "        background-color: #E2EBFA;\n",
              "        box-shadow: 0px 1px 2px rgba(60, 64, 67, 0.3), 0px 1px 3px 1px rgba(60, 64, 67, 0.15);\n",
              "        fill: #174EA6;\n",
              "      }\n",
              "\n",
              "      [theme=dark] .colab-df-generate {\n",
              "        background-color: #3B4455;\n",
              "        fill: #D2E3FC;\n",
              "      }\n",
              "\n",
              "      [theme=dark] .colab-df-generate:hover {\n",
              "        background-color: #434B5C;\n",
              "        box-shadow: 0px 1px 3px 1px rgba(0, 0, 0, 0.15);\n",
              "        filter: drop-shadow(0px 1px 2px rgba(0, 0, 0, 0.3));\n",
              "        fill: #FFFFFF;\n",
              "      }\n",
              "    </style>\n",
              "    <button class=\"colab-df-generate\" onclick=\"generateWithVariable('countrys')\"\n",
              "            title=\"Generate code using this dataframe.\"\n",
              "            style=\"display:none;\">\n",
              "\n",
              "  <svg xmlns=\"http://www.w3.org/2000/svg\" height=\"24px\"viewBox=\"0 0 24 24\"\n",
              "       width=\"24px\">\n",
              "    <path d=\"M7,19H8.4L18.45,9,17,7.55,7,17.6ZM5,21V16.75L18.45,3.32a2,2,0,0,1,2.83,0l1.4,1.43a1.91,1.91,0,0,1,.58,1.4,1.91,1.91,0,0,1-.58,1.4L9.25,21ZM18.45,9,17,7.55Zm-12,3A5.31,5.31,0,0,0,4.9,8.1,5.31,5.31,0,0,0,1,6.5,5.31,5.31,0,0,0,4.9,4.9,5.31,5.31,0,0,0,6.5,1,5.31,5.31,0,0,0,8.1,4.9,5.31,5.31,0,0,0,12,6.5,5.46,5.46,0,0,0,6.5,12Z\"/>\n",
              "  </svg>\n",
              "    </button>\n",
              "    <script>\n",
              "      (() => {\n",
              "      const buttonEl =\n",
              "        document.querySelector('#id_051e72b6-0e43-442c-ad48-bd56e897b30d button.colab-df-generate');\n",
              "      buttonEl.style.display =\n",
              "        google.colab.kernel.accessAllowed ? 'block' : 'none';\n",
              "\n",
              "      buttonEl.onclick = () => {\n",
              "        google.colab.notebook.generateWithVariable('countrys');\n",
              "      }\n",
              "      })();\n",
              "    </script>\n",
              "  </div>\n",
              "\n",
              "    </div>\n",
              "  </div>\n"
            ],
            "application/vnd.google.colaboratory.intrinsic+json": {
              "type": "dataframe",
              "variable_name": "countrys",
              "summary": "{\n  \"name\": \"countrys\",\n  \"rows\": 201,\n  \"fields\": [\n    {\n      \"column\": \"Country\",\n      \"properties\": {\n        \"dtype\": \"string\",\n        \"num_unique_values\": 201,\n        \"samples\": [\n          \"Kenya\",\n          \"Bangladesh\",\n          \"Burkina Faso\"\n        ],\n        \"semantic_type\": \"\",\n        \"description\": \"\"\n      }\n    },\n    {\n      \"column\": \"Code\",\n      \"properties\": {\n        \"dtype\": \"string\",\n        \"num_unique_values\": 201,\n        \"samples\": [\n          \"KEN\",\n          \"BAN\",\n          \"BUR\"\n        ],\n        \"semantic_type\": \"\",\n        \"description\": \"\"\n      }\n    },\n    {\n      \"column\": \"Population\",\n      \"properties\": {\n        \"dtype\": \"number\",\n        \"std\": 139965535.34364328,\n        \"min\": 10222.0,\n        \"max\": 1371220000.0,\n        \"num_unique_values\": 196,\n        \"samples\": [\n          31376670.0,\n          431333.0,\n          284215.0\n        ],\n        \"semantic_type\": \"\",\n        \"description\": \"\"\n      }\n    },\n    {\n      \"column\": \"GDP per Capita\",\n      \"properties\": {\n        \"dtype\": \"number\",\n        \"std\": 17747.141203442636,\n        \"min\": 277.068309170914,\n        \"max\": 101449.968168042,\n        \"num_unique_values\": 176,\n        \"samples\": [\n          3076.79181060881,\n          1945.12429310444,\n          5235.14220696525\n        ],\n        \"semantic_type\": \"\",\n        \"description\": \"\"\n      }\n    }\n  ]\n}"
            }
          },
          "metadata": {},
          "execution_count": 15
        }
      ]
    },
    {
      "cell_type": "code",
      "source": [
        "countrys.info()\n",
        "medal_counts.info()"
      ],
      "metadata": {
        "id": "F3waYQuBBz78",
        "outputId": "b4f92a1a-35c6-4271-95a2-6ef0b7b31380",
        "colab": {
          "base_uri": "https://localhost:8080/"
        }
      },
      "execution_count": 18,
      "outputs": [
        {
          "output_type": "stream",
          "name": "stdout",
          "text": [
            "<class 'pandas.core.frame.DataFrame'>\n",
            "RangeIndex: 201 entries, 0 to 200\n",
            "Data columns (total 4 columns):\n",
            " #   Column          Non-Null Count  Dtype  \n",
            "---  ------          --------------  -----  \n",
            " 0   Country         201 non-null    object \n",
            " 1   Code            201 non-null    object \n",
            " 2   Population      196 non-null    float64\n",
            " 3   GDP per Capita  176 non-null    float64\n",
            "dtypes: float64(2), object(2)\n",
            "memory usage: 6.4+ KB\n",
            "<class 'pandas.core.frame.DataFrame'>\n",
            "RangeIndex: 1435 entries, 0 to 1434\n",
            "Data columns (total 7 columns):\n",
            " #   Column  Non-Null Count  Dtype \n",
            "---  ------  --------------  ----- \n",
            " 0   Rank    1435 non-null   int64 \n",
            " 1   NOC     1435 non-null   object\n",
            " 2   Gold    1435 non-null   int64 \n",
            " 3   Silver  1435 non-null   int64 \n",
            " 4   Bronze  1435 non-null   int64 \n",
            " 5   Total   1435 non-null   int64 \n",
            " 6   Year    1435 non-null   int64 \n",
            "dtypes: int64(6), object(1)\n",
            "memory usage: 78.6+ KB\n"
          ]
        }
      ]
    },
    {
      "cell_type": "markdown",
      "source": [
        "## 清洗数据"
      ],
      "metadata": {
        "id": "v4B_ZPrNBluV"
      }
    },
    {
      "cell_type": "markdown",
      "source": [
        "> 考虑之后添加部分数据来完善表格信息(反正是作为验证使用)"
      ],
      "metadata": {
        "id": "z-OEQEJRCCJ9"
      }
    },
    {
      "cell_type": "markdown",
      "source": [
        "## 构建近五年获得奖牌总数与GDP和人口的关系"
      ],
      "metadata": {
        "id": "sVcI9CQWCA-D"
      }
    },
    {
      "cell_type": "code",
      "source": [
        "valid_years = [2000, 2004, 2008, 2012, 2016, 2020]\n",
        "filtered_data = medal_counts[medal_counts['Year'].isin(valid_years)]\n",
        "\n",
        "# 按国家分组聚合（包含各奖牌类型）\n",
        "country_medals = filtered_data.groupby('NOC').agg({\n",
        "    'Gold': 'sum',\n",
        "    'Silver': 'sum',\n",
        "    'Bronze': 'sum',\n",
        "    'Total': 'sum'\n",
        "}).reset_index()\n",
        "\n",
        "# 添加奖牌排名（按总奖牌数降序）\n",
        "country_medals = country_medals.sort_values('Total', ascending=False)\n",
        "country_medals['Rank'] = range(1, len(country_medals)+1)\n",
        "\n",
        "# 格式化输出\n",
        "pd.options.display.float_format = '{:.0f}'.format\n",
        "print(\"\\n国家奖牌汇总 (2000-2020):\")\n",
        "print(country_medals[['Rank', 'NOC', 'Gold', 'Silver', 'Bronze', 'Total']].head(10))\n",
        "\n",
        "# 保存结果\n",
        "country_medals.to_csv('olympic_medals_2000-2020.csv', index=False)"
      ],
      "metadata": {
        "id": "A6bGNgXnDIC7",
        "outputId": "d5afa690-8ba4-42fa-fa8d-194494c3c797",
        "colab": {
          "base_uri": "https://localhost:8080/"
        }
      },
      "execution_count": 19,
      "outputs": [
        {
          "output_type": "stream",
          "name": "stdout",
          "text": [
            "\n",
            "国家奖牌汇总 (2000-2020):\n",
            "     Rank            NOC  Gold  Silver  Bronze  Total\n",
            "122     1  United States   242     206     196    644\n",
            "21      2          China   211     136     125    472\n",
            "95      3         Russia   121     105     134    360\n",
            "44      4  Great Britain   117      93      95    305\n",
            "42      5        Germany    80      85     104    269\n",
            "4       6      Australia    80      89      95    264\n",
            "39      7         France    62      80      82    224\n",
            "60      8          Japan    76      61      80    217\n",
            "57      9          Italy    57      59      73    189\n",
            "105    10    South Korea    58      49      55    162\n"
          ]
        }
      ]
    },
    {
      "cell_type": "code",
      "source": [
        "# 加载noc_codes.json，并将上面得到的country_medats中的NOC转化为相应的country代码\n",
        "\n",
        "import json\n",
        "\n",
        "# 加载NOC代码映射表\n",
        "with open('noc_codes.json', 'r') as f:\n",
        "    noc_mapping = json.load(f)\n",
        "\n",
        "# 示例映射表结构验证\n",
        "print(\"NOC映射表示例：\", {k: noc_mapping[k] for k in list(noc_mapping)[:3]})\n",
        "\n",
        "# 加载之前生成的奖牌数据\n",
        "country_medals = pd.read_csv('olympic_medals_2000-2020.csv')\n",
        "\n",
        "# 创建标准化的国家名称映射（处理大小写和空格）\n",
        "normalized_mapping = {k.strip().lower(): v for k, v in noc_mapping.items()}\n",
        "\n",
        "# 定义转换函数\n",
        "def convert_to_noc(country_name):\n",
        "    # 预处理输入名称\n",
        "    clean_name = str(country_name).strip().lower()\n",
        "\n",
        "    # 优先精确匹配\n",
        "    if clean_name in normalized_mapping:\n",
        "        return normalized_mapping[clean_name]\n",
        "\n",
        "    # 常见别名处理\n",
        "    alias_mapping = {\n",
        "        'usa': 'USA',\n",
        "        'uk': 'GBR',\n",
        "        'britain': 'GBR',\n",
        "        'holland': 'NED',\n",
        "        'ROC':'ROC',\n",
        "        'FR Yugoslavia':'FR Yugoslavia',\n",
        "        'Independent Olympic Athletes':'Independent Olympic Athletes',\n",
        "        'Serbia and Montenegro':'Serbia and Montenegro',\n",
        "        'Macedonia':'Macedonia'\n",
        "    }\n",
        "    return alias_mapping.get(clean_name, pd.NA)\n",
        "\n",
        "# 执行转换\n",
        "country_medals['NOC_Code'] = country_medals['NOC'].apply(convert_to_noc)\n",
        "\n",
        "# 检查未匹配项\n",
        "unmapped = country_medals[country_medals['NOC_Code'].isna()]\n",
        "if not unmapped.empty:\n",
        "    print(f\"发现{len(unmapped)}条未匹配记录：\")\n",
        "    print(unmapped['NOC'].unique())\n",
        "    # 可在此处添加手动映射或记录到日志\n",
        "\n",
        "    # 删除未匹配的数据\n",
        "    for country in unmapped['NOC'].unique():\n",
        "        print(country)\n",
        "\n",
        "# 结果验证\n",
        "print(\"\\n转换结果示例：\")\n",
        "print(country_medals[['NOC', 'NOC_Code']].drop_duplicates().head(10))\n",
        "\n",
        "# 可选：清理原始列\n",
        "country_medals = country_medals.rename(columns={'NOC': 'CountryName'})\n",
        "country_medals = country_medals[['Rank', 'NOC_Code', 'Gold', 'Silver', 'Bronze', 'Total']]\n",
        "\n",
        "# 保存结果\n",
        "country_medals.to_csv('olympic_medals_with_noc.csv', index=False)"
      ],
      "metadata": {
        "id": "gwVmV2FUD2ud",
        "outputId": "1bb8e39b-2fc9-40fc-b72b-c940974c51c6",
        "colab": {
          "base_uri": "https://localhost:8080/"
        }
      },
      "execution_count": 29,
      "outputs": [
        {
          "output_type": "stream",
          "name": "stdout",
          "text": [
            "NOC映射表示例： {'Afghanistan': 'AFG', 'Albania': 'ALB', 'Algeria': 'ALG'}\n",
            "发现5条未匹配记录：\n",
            "['ROC' 'FR Yugoslavia' 'Independent Olympic Athletes'\n",
            " 'Serbia and Montenegro' 'Macedonia']\n",
            "ROC\n",
            "FR Yugoslavia\n",
            "Independent Olympic Athletes\n",
            "Serbia and Montenegro\n",
            "Macedonia\n",
            "\n",
            "转换结果示例：\n",
            "             NOC NOC_Code\n",
            "0  United States      USA\n",
            "1          China      CHN\n",
            "2         Russia      RUS\n",
            "3  Great Britain      GBR\n",
            "4        Germany      GER\n",
            "5      Australia      AUS\n",
            "6         France      FRA\n",
            "7          Japan      JPN\n",
            "8          Italy      ITA\n",
            "9    South Korea      KOR\n"
          ]
        }
      ]
    }
  ],
  "metadata": {
    "language_info": {
      "name": "python"
    },
    "colab": {
      "provenance": []
    },
    "kernelspec": {
      "name": "python3",
      "display_name": "Python 3"
    }
  },
  "nbformat": 4,
  "nbformat_minor": 0
}