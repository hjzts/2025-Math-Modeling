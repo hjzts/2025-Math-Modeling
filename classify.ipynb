{
  "cells": [
    {
      "cell_type": "markdown",
      "metadata": {
        "id": "_dAiHR1LOTX_"
      },
      "source": [
        "# 对各个国家按照获得奖牌数和获得奖牌的稳定性进行分类"
      ]
    },
    {
      "cell_type": "markdown",
      "source": [
        "##　加载数据"
      ],
      "metadata": {
        "id": "RN7BYBy_OzY6"
      }
    },
    {
      "cell_type": "code",
      "source": [
        "from google.colab import drive\n",
        "drive.mount('/content/drive')\n",
        "import os\n",
        "os.chdir('/content/drive/MyDrive/Colab Notebooks')\n",
        "%cd dataset\n",
        "!ls"
      ],
      "metadata": {
        "id": "GZcO08YSOu76"
      },
      "execution_count": null,
      "outputs": []
    },
    {
      "cell_type": "code",
      "source": [
        "import pandas as pd\n",
        "import numpy as np\n",
        "import matplotlib.pyplot as plt\n",
        "import seaborn as sns"
      ],
      "metadata": {
        "id": "z3n1e8t0O7HS"
      },
      "execution_count": null,
      "outputs": []
    },
    {
      "cell_type": "code",
      "source": [
        "athletes = pd.read_csv('summerOly_athletes.csv')\n",
        "hosts = pd.read_csv('summerOly_hosts.csv')\n",
        "medal_counts = pd.read_csv('summerOly_medal_counts.csv')\n",
        "programs = pd.read_csv('summerOly_programs.csv',encoding='latin-1')\n",
        "countrys = pd.read_csv('country.csv')"
      ],
      "metadata": {
        "id": "p7hRTQblO8UZ"
      },
      "execution_count": null,
      "outputs": []
    },
    {
      "cell_type": "code",
      "source": [
        "medal_counts.info()\n",
        "medal_counts"
      ],
      "metadata": {
        "id": "iZs8DtFuO8r6"
      },
      "execution_count": null,
      "outputs": []
    }
  ],
  "metadata": {
    "language_info": {
      "name": "python"
    },
    "colab": {
      "provenance": []
    },
    "kernelspec": {
      "name": "python3",
      "display_name": "Python 3"
    }
  },
  "nbformat": 4,
  "nbformat_minor": 0
}